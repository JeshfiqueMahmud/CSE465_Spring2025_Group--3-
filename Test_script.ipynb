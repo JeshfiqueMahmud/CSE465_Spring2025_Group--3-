{
 "cells": [
  {
   "cell_type": "code",
   "execution_count": 3,
   "metadata": {},
   "outputs": [
    {
     "name": "stdout",
     "output_type": "stream",
     "text": [
      "🧠 Prediction: FAKE (93.48% confidence)\n"
     ]
    }
   ],
   "source": [
    "import torch\n",
    "import torch.nn as nn\n",
    "import torchvision.models as models\n",
    "import torchvision.transforms as transforms\n",
    "from PIL import Image\n",
    "\n",
    "# ✅ Define the model class (same as in training)\n",
    "class ModifiedResNeXt(nn.Module):\n",
    "    def __init__(self):\n",
    "        super(ModifiedResNeXt, self).__init__()\n",
    "        resnext = models.resnext50_32x4d(weights=models.ResNeXt50_32X4D_Weights.IMAGENET1K_V1)\n",
    "        self.features = nn.Sequential(*list(resnext.children())[:-1])\n",
    "        self.classifier = nn.Sequential(\n",
    "            nn.Flatten(),\n",
    "            nn.BatchNorm1d(2048),\n",
    "            nn.Dropout(0.5),\n",
    "            nn.Linear(2048, 512),\n",
    "            nn.ReLU(),\n",
    "            nn.BatchNorm1d(512),\n",
    "            nn.Dropout(0.3),\n",
    "            nn.Linear(512, 2)\n",
    "        )\n",
    "\n",
    "    def forward(self, x):\n",
    "        x = self.features(x)\n",
    "        x = self.classifier(x)\n",
    "        return x\n",
    "\n",
    "# ✅ Device configuration\n",
    "device = torch.device(\"cuda\" if torch.cuda.is_available() else \"cpu\")\n",
    "\n",
    "# ✅ Load the model\n",
    "model = ModifiedResNeXt()\n",
    "model.load_state_dict(torch.load('best_resnext50_model-2.pth', map_location=device))\n",
    "model.to(device)\n",
    "model.eval()\n",
    "\n",
    "# ✅ Define transformation (same as test/val transform)\n",
    "transform = transforms.Compose([\n",
    "    transforms.Resize((224, 224)),\n",
    "    transforms.ToTensor(),\n",
    "    transforms.Normalize(mean=[0.485, 0.456, 0.406], std=[0.229, 0.224, 0.225])\n",
    "])\n",
    "\n",
    "# ✅ Load and preprocess a single image\n",
    "def predict_image(image_path):\n",
    "    image = Image.open(image_path).convert(\"RGB\")\n",
    "    image = transform(image).unsqueeze(0).to(device)  # Add batch dimension\n",
    "    with torch.no_grad():\n",
    "        outputs = model(image)\n",
    "        _, predicted = torch.max(outputs, 1)\n",
    "        confidence = torch.softmax(outputs, dim=1)[0][predicted].item()\n",
    "    label = predicted.item()\n",
    "    return label, confidence\n",
    "\n",
    "# ✅ Run inference\n",
    "img_path = r\"C:\\Users\\rocky's pc\\OneDrive\\Desktop\\visualization_gossipcop-928457.png\"  # 🔁 Replace with actual image path\n",
    "label_map = {0: \"REAL\", 1: \"FAKE\"}         # 🔁 Adjust if your label mapping differs\n",
    "\n",
    "predicted_label, conf = predict_image(img_path)\n",
    "print(f\"🧠 Prediction: {label_map[predicted_label]} ({conf*100:.2f}% confidence)\")\n"
   ]
  }
 ],
 "metadata": {
  "kernelspec": {
   "display_name": "Python 3",
   "language": "python",
   "name": "python3"
  },
  "language_info": {
   "codemirror_mode": {
    "name": "ipython",
    "version": 3
   },
   "file_extension": ".py",
   "mimetype": "text/x-python",
   "name": "python",
   "nbconvert_exporter": "python",
   "pygments_lexer": "ipython3",
   "version": "3.11.9"
  }
 },
 "nbformat": 4,
 "nbformat_minor": 2
}
